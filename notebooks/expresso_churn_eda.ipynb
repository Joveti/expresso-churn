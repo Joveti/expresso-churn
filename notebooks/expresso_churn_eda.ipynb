{
 "cells": [
  {
   "cell_type": "markdown",
   "id": "56bc3c47",
   "metadata": {},
   "source": [
    "# Install the necessary packages"
   ]
  },
  {
   "cell_type": "code",
   "execution_count": 2,
   "id": "692dd25c",
   "metadata": {},
   "outputs": [],
   "source": [
    "import pandas as pd \n",
    "import numpy as np \n",
    "import matplotlib.pyplot as plt \n",
    "import seaborn as sns "
   ]
  },
  {
   "cell_type": "markdown",
   "id": "492973d2",
   "metadata": {},
   "source": [
    "# Import you data and perform basic data exploration phase"
   ]
  },
  {
   "cell_type": "code",
   "execution_count": 3,
   "id": "c72561f9",
   "metadata": {},
   "outputs": [
    {
     "data": {
      "text/html": [
       "<div>\n",
       "<style scoped>\n",
       "    .dataframe tbody tr th:only-of-type {\n",
       "        vertical-align: middle;\n",
       "    }\n",
       "\n",
       "    .dataframe tbody tr th {\n",
       "        vertical-align: top;\n",
       "    }\n",
       "\n",
       "    .dataframe thead th {\n",
       "        text-align: right;\n",
       "    }\n",
       "</style>\n",
       "<table border=\"1\" class=\"dataframe\">\n",
       "  <thead>\n",
       "    <tr style=\"text-align: right;\">\n",
       "      <th></th>\n",
       "      <th>user_id</th>\n",
       "      <th>REGION</th>\n",
       "      <th>TENURE</th>\n",
       "      <th>MONTANT</th>\n",
       "      <th>FREQUENCE_RECH</th>\n",
       "      <th>REVENUE</th>\n",
       "      <th>ARPU_SEGMENT</th>\n",
       "      <th>FREQUENCE</th>\n",
       "      <th>DATA_VOLUME</th>\n",
       "      <th>ON_NET</th>\n",
       "      <th>ORANGE</th>\n",
       "      <th>TIGO</th>\n",
       "      <th>ZONE1</th>\n",
       "      <th>ZONE2</th>\n",
       "      <th>MRG</th>\n",
       "      <th>REGULARITY</th>\n",
       "      <th>TOP_PACK</th>\n",
       "      <th>FREQ_TOP_PACK</th>\n",
       "      <th>CHURN</th>\n",
       "    </tr>\n",
       "  </thead>\n",
       "  <tbody>\n",
       "    <tr>\n",
       "      <th>0</th>\n",
       "      <td>00000bfd7d50f01092811bc0c8d7b0d6fe7c3596</td>\n",
       "      <td>FATICK</td>\n",
       "      <td>K &gt; 24 month</td>\n",
       "      <td>4250.0</td>\n",
       "      <td>15.0</td>\n",
       "      <td>4251.0</td>\n",
       "      <td>1417.0</td>\n",
       "      <td>17.0</td>\n",
       "      <td>4.0</td>\n",
       "      <td>388.0</td>\n",
       "      <td>46.0</td>\n",
       "      <td>1.0</td>\n",
       "      <td>1.0</td>\n",
       "      <td>2.0</td>\n",
       "      <td>NO</td>\n",
       "      <td>54</td>\n",
       "      <td>On net 200F=Unlimited _call24H</td>\n",
       "      <td>8.0</td>\n",
       "      <td>0</td>\n",
       "    </tr>\n",
       "    <tr>\n",
       "      <th>1</th>\n",
       "      <td>00000cb4a5d760de88fecb38e2f71b7bec52e834</td>\n",
       "      <td>NaN</td>\n",
       "      <td>I 18-21 month</td>\n",
       "      <td>NaN</td>\n",
       "      <td>NaN</td>\n",
       "      <td>NaN</td>\n",
       "      <td>NaN</td>\n",
       "      <td>NaN</td>\n",
       "      <td>NaN</td>\n",
       "      <td>NaN</td>\n",
       "      <td>NaN</td>\n",
       "      <td>NaN</td>\n",
       "      <td>NaN</td>\n",
       "      <td>NaN</td>\n",
       "      <td>NO</td>\n",
       "      <td>4</td>\n",
       "      <td>NaN</td>\n",
       "      <td>NaN</td>\n",
       "      <td>1</td>\n",
       "    </tr>\n",
       "    <tr>\n",
       "      <th>2</th>\n",
       "      <td>00001654a9d9f96303d9969d0a4a851714a4bb57</td>\n",
       "      <td>NaN</td>\n",
       "      <td>K &gt; 24 month</td>\n",
       "      <td>3600.0</td>\n",
       "      <td>2.0</td>\n",
       "      <td>1020.0</td>\n",
       "      <td>340.0</td>\n",
       "      <td>2.0</td>\n",
       "      <td>NaN</td>\n",
       "      <td>90.0</td>\n",
       "      <td>46.0</td>\n",
       "      <td>7.0</td>\n",
       "      <td>NaN</td>\n",
       "      <td>NaN</td>\n",
       "      <td>NO</td>\n",
       "      <td>17</td>\n",
       "      <td>On-net 1000F=10MilF;10d</td>\n",
       "      <td>1.0</td>\n",
       "      <td>0</td>\n",
       "    </tr>\n",
       "    <tr>\n",
       "      <th>3</th>\n",
       "      <td>00001dd6fa45f7ba044bd5d84937be464ce78ac2</td>\n",
       "      <td>DAKAR</td>\n",
       "      <td>K &gt; 24 month</td>\n",
       "      <td>13500.0</td>\n",
       "      <td>15.0</td>\n",
       "      <td>13502.0</td>\n",
       "      <td>4501.0</td>\n",
       "      <td>18.0</td>\n",
       "      <td>43804.0</td>\n",
       "      <td>41.0</td>\n",
       "      <td>102.0</td>\n",
       "      <td>2.0</td>\n",
       "      <td>NaN</td>\n",
       "      <td>NaN</td>\n",
       "      <td>NO</td>\n",
       "      <td>62</td>\n",
       "      <td>Data:1000F=5GB,7d</td>\n",
       "      <td>11.0</td>\n",
       "      <td>0</td>\n",
       "    </tr>\n",
       "    <tr>\n",
       "      <th>4</th>\n",
       "      <td>000028d9e13a595abe061f9b58f3d76ab907850f</td>\n",
       "      <td>DAKAR</td>\n",
       "      <td>K &gt; 24 month</td>\n",
       "      <td>1000.0</td>\n",
       "      <td>1.0</td>\n",
       "      <td>985.0</td>\n",
       "      <td>328.0</td>\n",
       "      <td>1.0</td>\n",
       "      <td>NaN</td>\n",
       "      <td>39.0</td>\n",
       "      <td>24.0</td>\n",
       "      <td>NaN</td>\n",
       "      <td>NaN</td>\n",
       "      <td>NaN</td>\n",
       "      <td>NO</td>\n",
       "      <td>11</td>\n",
       "      <td>Mixt 250F=Unlimited_call24H</td>\n",
       "      <td>2.0</td>\n",
       "      <td>0</td>\n",
       "    </tr>\n",
       "  </tbody>\n",
       "</table>\n",
       "</div>"
      ],
      "text/plain": [
       "                                    user_id  REGION         TENURE  MONTANT  \\\n",
       "0  00000bfd7d50f01092811bc0c8d7b0d6fe7c3596  FATICK   K > 24 month   4250.0   \n",
       "1  00000cb4a5d760de88fecb38e2f71b7bec52e834     NaN  I 18-21 month      NaN   \n",
       "2  00001654a9d9f96303d9969d0a4a851714a4bb57     NaN   K > 24 month   3600.0   \n",
       "3  00001dd6fa45f7ba044bd5d84937be464ce78ac2   DAKAR   K > 24 month  13500.0   \n",
       "4  000028d9e13a595abe061f9b58f3d76ab907850f   DAKAR   K > 24 month   1000.0   \n",
       "\n",
       "   FREQUENCE_RECH  REVENUE  ARPU_SEGMENT  FREQUENCE  DATA_VOLUME  ON_NET  \\\n",
       "0            15.0   4251.0        1417.0       17.0          4.0   388.0   \n",
       "1             NaN      NaN           NaN        NaN          NaN     NaN   \n",
       "2             2.0   1020.0         340.0        2.0          NaN    90.0   \n",
       "3            15.0  13502.0        4501.0       18.0      43804.0    41.0   \n",
       "4             1.0    985.0         328.0        1.0          NaN    39.0   \n",
       "\n",
       "   ORANGE  TIGO  ZONE1  ZONE2 MRG  REGULARITY                        TOP_PACK  \\\n",
       "0    46.0   1.0    1.0    2.0  NO          54  On net 200F=Unlimited _call24H   \n",
       "1     NaN   NaN    NaN    NaN  NO           4                             NaN   \n",
       "2    46.0   7.0    NaN    NaN  NO          17         On-net 1000F=10MilF;10d   \n",
       "3   102.0   2.0    NaN    NaN  NO          62               Data:1000F=5GB,7d   \n",
       "4    24.0   NaN    NaN    NaN  NO          11     Mixt 250F=Unlimited_call24H   \n",
       "\n",
       "   FREQ_TOP_PACK  CHURN  \n",
       "0            8.0      0  \n",
       "1            NaN      1  \n",
       "2            1.0      0  \n",
       "3           11.0      0  \n",
       "4            2.0      0  "
      ]
     },
     "execution_count": 3,
     "metadata": {},
     "output_type": "execute_result"
    }
   ],
   "source": [
    "df = pd.read_csv('/Users/mohamoud/Desktop/streamlit/expresso_churn_project/data/Expresso_churn_dataset.csv')\n",
    "df.head()"
   ]
  },
  {
   "cell_type": "markdown",
   "id": "4b4e05b7",
   "metadata": {},
   "source": [
    "## Display general information about the dataset"
   ]
  },
  {
   "cell_type": "code",
   "execution_count": 4,
   "id": "981306d2",
   "metadata": {},
   "outputs": [
    {
     "name": "stdout",
     "output_type": "stream",
     "text": [
      "<class 'pandas.core.frame.DataFrame'>\n",
      "RangeIndex: 2154048 entries, 0 to 2154047\n",
      "Data columns (total 19 columns):\n",
      " #   Column          Dtype  \n",
      "---  ------          -----  \n",
      " 0   user_id         object \n",
      " 1   REGION          object \n",
      " 2   TENURE          object \n",
      " 3   MONTANT         float64\n",
      " 4   FREQUENCE_RECH  float64\n",
      " 5   REVENUE         float64\n",
      " 6   ARPU_SEGMENT    float64\n",
      " 7   FREQUENCE       float64\n",
      " 8   DATA_VOLUME     float64\n",
      " 9   ON_NET          float64\n",
      " 10  ORANGE          float64\n",
      " 11  TIGO            float64\n",
      " 12  ZONE1           float64\n",
      " 13  ZONE2           float64\n",
      " 14  MRG             object \n",
      " 15  REGULARITY      int64  \n",
      " 16  TOP_PACK        object \n",
      " 17  FREQ_TOP_PACK   float64\n",
      " 18  CHURN           int64  \n",
      "dtypes: float64(12), int64(2), object(5)\n",
      "memory usage: 312.2+ MB\n"
     ]
    }
   ],
   "source": [
    "df.info()"
   ]
  },
  {
   "cell_type": "markdown",
   "id": "38b27b1d",
   "metadata": {},
   "source": [
    "## Handle Missing and corrupted values"
   ]
  },
  {
   "cell_type": "code",
   "execution_count": 5,
   "id": "655bf758",
   "metadata": {},
   "outputs": [
    {
     "data": {
      "text/plain": [
       "user_id                 0\n",
       "REGION             849299\n",
       "TENURE                  0\n",
       "MONTANT            756739\n",
       "FREQUENCE_RECH     756739\n",
       "REVENUE            726048\n",
       "ARPU_SEGMENT       726048\n",
       "FREQUENCE          726048\n",
       "DATA_VOLUME       1060433\n",
       "ON_NET             786675\n",
       "ORANGE             895248\n",
       "TIGO              1290016\n",
       "ZONE1             1984327\n",
       "ZONE2             2017224\n",
       "MRG                     0\n",
       "REGULARITY              0\n",
       "TOP_PACK           902594\n",
       "FREQ_TOP_PACK      902594\n",
       "CHURN                   0\n",
       "dtype: int64"
      ]
     },
     "execution_count": 5,
     "metadata": {},
     "output_type": "execute_result"
    }
   ],
   "source": [
    "df.isnull().sum()"
   ]
  },
  {
   "cell_type": "code",
   "execution_count": 6,
   "id": "7952e9f9",
   "metadata": {},
   "outputs": [],
   "source": [
    "# Drop columns with very high missing values or low correlation\n",
    "df.drop(columns=[\"ZONE1\", \"ZONE2\", \"TIGO\", \"user_id\"], inplace=True)\n",
    "\n",
    "# Drop the row with missing CHURN\n",
    "df = df.dropna(subset=[\"CHURN\"])"
   ]
  },
  {
   "cell_type": "code",
   "execution_count": 7,
   "id": "d27bbf08",
   "metadata": {},
   "outputs": [
    {
     "name": "stderr",
     "output_type": "stream",
     "text": [
      "/var/folders/_3/2nrfy44x28j0rq_2lk2456cm0000gn/T/ipykernel_2268/1768508691.py:9: FutureWarning: A value is trying to be set on a copy of a DataFrame or Series through chained assignment using an inplace method.\n",
      "The behavior will change in pandas 3.0. This inplace method will never work because the intermediate object on which we are setting values always behaves as a copy.\n",
      "\n",
      "For example, when doing 'df[col].method(value, inplace=True)', try using 'df.method({col: value}, inplace=True)' or df[col] = df[col].method(value) instead, to perform the operation inplace on the original object.\n",
      "\n",
      "\n",
      "  df[col].fillna(median_val, inplace=True)\n",
      "/var/folders/_3/2nrfy44x28j0rq_2lk2456cm0000gn/T/ipykernel_2268/1768508691.py:9: FutureWarning: A value is trying to be set on a copy of a DataFrame or Series through chained assignment using an inplace method.\n",
      "The behavior will change in pandas 3.0. This inplace method will never work because the intermediate object on which we are setting values always behaves as a copy.\n",
      "\n",
      "For example, when doing 'df[col].method(value, inplace=True)', try using 'df.method({col: value}, inplace=True)' or df[col] = df[col].method(value) instead, to perform the operation inplace on the original object.\n",
      "\n",
      "\n",
      "  df[col].fillna(median_val, inplace=True)\n",
      "/var/folders/_3/2nrfy44x28j0rq_2lk2456cm0000gn/T/ipykernel_2268/1768508691.py:9: FutureWarning: A value is trying to be set on a copy of a DataFrame or Series through chained assignment using an inplace method.\n",
      "The behavior will change in pandas 3.0. This inplace method will never work because the intermediate object on which we are setting values always behaves as a copy.\n",
      "\n",
      "For example, when doing 'df[col].method(value, inplace=True)', try using 'df.method({col: value}, inplace=True)' or df[col] = df[col].method(value) instead, to perform the operation inplace on the original object.\n",
      "\n",
      "\n",
      "  df[col].fillna(median_val, inplace=True)\n",
      "/var/folders/_3/2nrfy44x28j0rq_2lk2456cm0000gn/T/ipykernel_2268/1768508691.py:9: FutureWarning: A value is trying to be set on a copy of a DataFrame or Series through chained assignment using an inplace method.\n",
      "The behavior will change in pandas 3.0. This inplace method will never work because the intermediate object on which we are setting values always behaves as a copy.\n",
      "\n",
      "For example, when doing 'df[col].method(value, inplace=True)', try using 'df.method({col: value}, inplace=True)' or df[col] = df[col].method(value) instead, to perform the operation inplace on the original object.\n",
      "\n",
      "\n",
      "  df[col].fillna(median_val, inplace=True)\n",
      "/var/folders/_3/2nrfy44x28j0rq_2lk2456cm0000gn/T/ipykernel_2268/1768508691.py:9: FutureWarning: A value is trying to be set on a copy of a DataFrame or Series through chained assignment using an inplace method.\n",
      "The behavior will change in pandas 3.0. This inplace method will never work because the intermediate object on which we are setting values always behaves as a copy.\n",
      "\n",
      "For example, when doing 'df[col].method(value, inplace=True)', try using 'df.method({col: value}, inplace=True)' or df[col] = df[col].method(value) instead, to perform the operation inplace on the original object.\n",
      "\n",
      "\n",
      "  df[col].fillna(median_val, inplace=True)\n",
      "/var/folders/_3/2nrfy44x28j0rq_2lk2456cm0000gn/T/ipykernel_2268/1768508691.py:9: FutureWarning: A value is trying to be set on a copy of a DataFrame or Series through chained assignment using an inplace method.\n",
      "The behavior will change in pandas 3.0. This inplace method will never work because the intermediate object on which we are setting values always behaves as a copy.\n",
      "\n",
      "For example, when doing 'df[col].method(value, inplace=True)', try using 'df.method({col: value}, inplace=True)' or df[col] = df[col].method(value) instead, to perform the operation inplace on the original object.\n",
      "\n",
      "\n",
      "  df[col].fillna(median_val, inplace=True)\n",
      "/var/folders/_3/2nrfy44x28j0rq_2lk2456cm0000gn/T/ipykernel_2268/1768508691.py:9: FutureWarning: A value is trying to be set on a copy of a DataFrame or Series through chained assignment using an inplace method.\n",
      "The behavior will change in pandas 3.0. This inplace method will never work because the intermediate object on which we are setting values always behaves as a copy.\n",
      "\n",
      "For example, when doing 'df[col].method(value, inplace=True)', try using 'df.method({col: value}, inplace=True)' or df[col] = df[col].method(value) instead, to perform the operation inplace on the original object.\n",
      "\n",
      "\n",
      "  df[col].fillna(median_val, inplace=True)\n",
      "/var/folders/_3/2nrfy44x28j0rq_2lk2456cm0000gn/T/ipykernel_2268/1768508691.py:9: FutureWarning: A value is trying to be set on a copy of a DataFrame or Series through chained assignment using an inplace method.\n",
      "The behavior will change in pandas 3.0. This inplace method will never work because the intermediate object on which we are setting values always behaves as a copy.\n",
      "\n",
      "For example, when doing 'df[col].method(value, inplace=True)', try using 'df.method({col: value}, inplace=True)' or df[col] = df[col].method(value) instead, to perform the operation inplace on the original object.\n",
      "\n",
      "\n",
      "  df[col].fillna(median_val, inplace=True)\n"
     ]
    }
   ],
   "source": [
    "# Impute numeric features with median\n",
    "numerical_impute_median = [\n",
    "    \"MONTANT\", \"FREQUENCE_RECH\", \"REVENUE\", \"ARPU_SEGMENT\",\n",
    "    \"FREQUENCE\", \"DATA_VOLUME\", \"ON_NET\", \"ORANGE\"\n",
    "]\n",
    "\n",
    "for col in numerical_impute_median:\n",
    "    median_val = df[col].median()\n",
    "    df[col].fillna(median_val, inplace=True)"
   ]
  },
  {
   "cell_type": "code",
   "execution_count": 8,
   "id": "010f743a",
   "metadata": {},
   "outputs": [
    {
     "name": "stderr",
     "output_type": "stream",
     "text": [
      "/var/folders/_3/2nrfy44x28j0rq_2lk2456cm0000gn/T/ipykernel_2268/108313442.py:4: FutureWarning: A value is trying to be set on a copy of a DataFrame or Series through chained assignment using an inplace method.\n",
      "The behavior will change in pandas 3.0. This inplace method will never work because the intermediate object on which we are setting values always behaves as a copy.\n",
      "\n",
      "For example, when doing 'df[col].method(value, inplace=True)', try using 'df.method({col: value}, inplace=True)' or df[col] = df[col].method(value) instead, to perform the operation inplace on the original object.\n",
      "\n",
      "\n",
      "  df[col].fillna(\"Unknown\", inplace=True)\n",
      "/var/folders/_3/2nrfy44x28j0rq_2lk2456cm0000gn/T/ipykernel_2268/108313442.py:7: FutureWarning: A value is trying to be set on a copy of a DataFrame or Series through chained assignment using an inplace method.\n",
      "The behavior will change in pandas 3.0. This inplace method will never work because the intermediate object on which we are setting values always behaves as a copy.\n",
      "\n",
      "For example, when doing 'df[col].method(value, inplace=True)', try using 'df.method({col: value}, inplace=True)' or df[col] = df[col].method(value) instead, to perform the operation inplace on the original object.\n",
      "\n",
      "\n",
      "  df[\"FREQ_TOP_PACK\"].fillna(0, inplace=True)\n"
     ]
    },
    {
     "name": "stdout",
     "output_type": "stream",
     "text": [
      "Remaining nulls:\n",
      "REGION            0\n",
      "TENURE            0\n",
      "MONTANT           0\n",
      "FREQUENCE_RECH    0\n",
      "REVENUE           0\n",
      "ARPU_SEGMENT      0\n",
      "FREQUENCE         0\n",
      "DATA_VOLUME       0\n",
      "ON_NET            0\n",
      "ORANGE            0\n",
      "MRG               0\n",
      "REGULARITY        0\n",
      "TOP_PACK          0\n",
      "FREQ_TOP_PACK     0\n",
      "CHURN             0\n",
      "dtype: int64\n"
     ]
    }
   ],
   "source": [
    "# Impute categorical features with 'Unknown'\n",
    "categorical_impute_unknown = [\"REGION\", \"TOP_PACK\"]\n",
    "for col in categorical_impute_unknown:\n",
    "    df[col].fillna(\"Unknown\", inplace=True)\n",
    "\n",
    "# Impute FREQ_TOP_PACK with 0 (indicates no usage)\n",
    "df[\"FREQ_TOP_PACK\"].fillna(0, inplace=True)\n",
    "\n",
    "# Final check on remaining missing values\n",
    "print(\"Remaining nulls:\")\n",
    "print(df.isnull().sum())"
   ]
  },
  {
   "cell_type": "code",
   "execution_count": 9,
   "id": "0aae968d",
   "metadata": {},
   "outputs": [],
   "source": [
    "# save cleaned dataset\n",
    "df.to_csv(\"/Users/mohamoud/Desktop/streamlit/expresso_churn_project/data/expresso_churn_clean.csv\", index=False)"
   ]
  },
  {
   "cell_type": "markdown",
   "id": "c6c1b0ca",
   "metadata": {},
   "source": [
    "## Remove duplicates, if they exist"
   ]
  },
  {
   "cell_type": "code",
   "execution_count": 10,
   "id": "5207b86b",
   "metadata": {},
   "outputs": [
    {
     "data": {
      "text/plain": [
       "np.int64(650557)"
      ]
     },
     "execution_count": 10,
     "metadata": {},
     "output_type": "execute_result"
    }
   ],
   "source": [
    "df.duplicated().sum()"
   ]
  },
  {
   "cell_type": "code",
   "execution_count": 11,
   "id": "4546a78f",
   "metadata": {},
   "outputs": [
    {
     "name": "stdout",
     "output_type": "stream",
     "text": [
      "Shape after removing duplicates: (2154048, 15)\n"
     ]
    }
   ],
   "source": [
    "# removing duplicates from our dataset\n",
    "df.drop_duplicates()\n",
    "\n",
    "# checking the new shape of our dataset\n",
    "print(\"Shape after removing duplicates:\", df.shape)"
   ]
  },
  {
   "cell_type": "markdown",
   "id": "f9338923",
   "metadata": {},
   "source": [
    "## Handle outliers, if they exist"
   ]
  },
  {
   "cell_type": "code",
   "execution_count": 12,
   "id": "00224b95",
   "metadata": {},
   "outputs": [
    {
     "data": {
      "image/png": "[encoded data removed]",
      "text/plain": [
       "<Figure size 1400x800 with 7 Axes>"
      ]
     },
     "metadata": {},
     "output_type": "display_data"
    }
   ],
   "source": [
    "# visualizing key features using Boxplots\n",
    "num_cols = [\"MONTANT\", \"REVENUE\", \"ARPU_SEGMENT\", \"DATA_VOLUME\", \"FREQUENCE_RECH\", \"ON_NET\", \"ORANGE\"]\n",
    "\n",
    "plt.figure(figsize=(14, 8))\n",
    "for i, col in enumerate(num_cols):\n",
    "    plt.subplot(2, 4, i+1)\n",
    "    sns.boxplot(x=df[col], color=\"lightblue\")\n",
    "    plt.title(col)\n",
    "plt.tight_layout()\n",
    "plt.show()"
   ]
  },
  {
   "cell_type": "code",
   "execution_count": 13,
   "id": "e366af1f",
   "metadata": {},
   "outputs": [],
   "source": [
    "# applying IQR based filtering \n",
    "def cap_outliers(df, column):\n",
    "    Q1 = df[column].quantile(0.25)\n",
    "    Q3 = df[column].quantile(0.75)\n",
    "    IQR = Q3 - Q1\n",
    "    lower_cap = Q1 - 1.5 * IQR\n",
    "    upper_cap = Q3 + 1.5 * IQR\n",
    "    df[column] = df[column].clip(lower=lower_cap, upper=upper_cap)\n",
    "    return df\n",
    "\n",
    "# Apply to selected columns\n",
    "outlier_cols = [\"MONTANT\", \"REVENUE\", \"ARPU_SEGMENT\", \"DATA_VOLUME\", \"FREQUENCE_RECH\", \"ON_NET\", \"ORANGE\"]\n",
    "for col in outlier_cols:\n",
    "    df = cap_outliers(df, col)"
   ]
  },
  {
   "cell_type": "code",
   "execution_count": 14,
   "id": "3d9df068",
   "metadata": {},
   "outputs": [
    {
     "data": {
      "image/png": "[encoded data removed]",
      "text/plain": [
       "<Figure size 1600x1000 with 9 Axes>"
      ]
     },
     "metadata": {},
     "output_type": "display_data"
    }
   ],
   "source": [
    "df[num_cols].hist(figsize=(16, 10), bins=50, color=\"steelblue\")\n",
    "plt.suptitle(\"Distributions After Outlier Capping\", fontsize=16)\n",
    "plt.show()"
   ]
  },
  {
   "cell_type": "markdown",
   "id": "78ce04ce",
   "metadata": {},
   "source": [
    "## Encode categorical features"
   ]
  },
  {
   "cell_type": "code",
   "execution_count": 15,
   "id": "32de6c2c",
   "metadata": {},
   "outputs": [],
   "source": [
    "# Encode 'MRG' column (Binary)\n",
    "df[\"MRG\"] = df[\"MRG\"].map({\"YES\": 1, \"NO\": 0})\n",
    "\n",
    "# Encode 'TENURE' column (ordinal)\n",
    "tenure_map = {\n",
    "    \"A < 1 month\": 1,\n",
    "    \"B 1-3 month\": 2,\n",
    "    \"C 4-6 month\": 3,\n",
    "    \"D 7-9 month\": 4,\n",
    "    \"E 10-12 month\": 5,\n",
    "    \"F 13-15 month\": 6,\n",
    "    \"G 16-18 month\": 7,\n",
    "    \"H 19-21 month\": 8,\n",
    "    \"I 18-21 month\": 8,\n",
    "    \"J 22-24 month\": 9,\n",
    "    \"K > 24 month\": 10\n",
    "}\n",
    "df[\"TENURE\"] = df[\"TENURE\"].map(tenure_map)"
   ]
  },
  {
   "cell_type": "code",
   "execution_count": 16,
   "id": "2ade0f76",
   "metadata": {},
   "outputs": [],
   "source": [
    "# Frequency encoding\n",
    "region_freq = df[\"REGION\"].value_counts(normalize=True)\n",
    "df[\"REGION_FE\"] = df[\"REGION\"].map(region_freq)\n",
    "df.drop(\"REGION\", axis=1, inplace=True)\n",
    "\n",
    "# Frequency encode top packs\n",
    "top_pack_freq = df[\"TOP_PACK\"].value_counts(normalize=True)\n",
    "df[\"TOP_PACK_FE\"] = df[\"TOP_PACK\"].map(top_pack_freq)\n",
    "df.drop(\"TOP_PACK\", axis=1, inplace=True)"
   ]
  },
  {
   "cell_type": "code",
   "execution_count": 17,
   "id": "62376059",
   "metadata": {},
   "outputs": [
    {
     "data": {
      "text/html": [
       "<div>\n",
       "<style scoped>\n",
       "    .dataframe tbody tr th:only-of-type {\n",
       "        vertical-align: middle;\n",
       "    }\n",
       "\n",
       "    .dataframe tbody tr th {\n",
       "        vertical-align: top;\n",
       "    }\n",
       "\n",
       "    .dataframe thead th {\n",
       "        text-align: right;\n",
       "    }\n",
       "</style>\n",
       "<table border=\"1\" class=\"dataframe\">\n",
       "  <thead>\n",
       "    <tr style=\"text-align: right;\">\n",
       "      <th></th>\n",
       "      <th>TENURE</th>\n",
       "      <th>MONTANT</th>\n",
       "      <th>FREQUENCE_RECH</th>\n",
       "      <th>REVENUE</th>\n",
       "      <th>ARPU_SEGMENT</th>\n",
       "      <th>FREQUENCE</th>\n",
       "      <th>DATA_VOLUME</th>\n",
       "      <th>ON_NET</th>\n",
       "      <th>ORANGE</th>\n",
       "      <th>MRG</th>\n",
       "      <th>REGULARITY</th>\n",
       "      <th>FREQ_TOP_PACK</th>\n",
       "      <th>CHURN</th>\n",
       "      <th>REGION_FE</th>\n",
       "      <th>TOP_PACK_FE</th>\n",
       "    </tr>\n",
       "  </thead>\n",
       "  <tbody>\n",
       "    <tr>\n",
       "      <th>0</th>\n",
       "      <td>10.0</td>\n",
       "      <td>4250.0</td>\n",
       "      <td>15.0</td>\n",
       "      <td>4251.0</td>\n",
       "      <td>1417.0</td>\n",
       "      <td>17.0</td>\n",
       "      <td>144.0</td>\n",
       "      <td>119.5</td>\n",
       "      <td>46.0</td>\n",
       "      <td>0</td>\n",
       "      <td>54</td>\n",
       "      <td>8.0</td>\n",
       "      <td>0</td>\n",
       "      <td>0.016547</td>\n",
       "      <td>0.070702</td>\n",
       "    </tr>\n",
       "    <tr>\n",
       "      <th>1</th>\n",
       "      <td>8.0</td>\n",
       "      <td>3000.0</td>\n",
       "      <td>7.0</td>\n",
       "      <td>3000.0</td>\n",
       "      <td>1000.0</td>\n",
       "      <td>9.0</td>\n",
       "      <td>257.0</td>\n",
       "      <td>27.0</td>\n",
       "      <td>29.0</td>\n",
       "      <td>0</td>\n",
       "      <td>4</td>\n",
       "      <td>0.0</td>\n",
       "      <td>1</td>\n",
       "      <td>0.394280</td>\n",
       "      <td>0.419022</td>\n",
       "    </tr>\n",
       "    <tr>\n",
       "      <th>2</th>\n",
       "      <td>10.0</td>\n",
       "      <td>3600.0</td>\n",
       "      <td>2.0</td>\n",
       "      <td>1020.0</td>\n",
       "      <td>340.0</td>\n",
       "      <td>2.0</td>\n",
       "      <td>257.0</td>\n",
       "      <td>90.0</td>\n",
       "      <td>46.0</td>\n",
       "      <td>0</td>\n",
       "      <td>17</td>\n",
       "      <td>1.0</td>\n",
       "      <td>0</td>\n",
       "      <td>0.394280</td>\n",
       "      <td>0.008567</td>\n",
       "    </tr>\n",
       "    <tr>\n",
       "      <th>3</th>\n",
       "      <td>10.0</td>\n",
       "      <td>8500.0</td>\n",
       "      <td>15.0</td>\n",
       "      <td>8898.5</td>\n",
       "      <td>2966.5</td>\n",
       "      <td>18.0</td>\n",
       "      <td>376.0</td>\n",
       "      <td>41.0</td>\n",
       "      <td>72.5</td>\n",
       "      <td>0</td>\n",
       "      <td>62</td>\n",
       "      <td>11.0</td>\n",
       "      <td>0</td>\n",
       "      <td>0.238282</td>\n",
       "      <td>0.006791</td>\n",
       "    </tr>\n",
       "    <tr>\n",
       "      <th>4</th>\n",
       "      <td>10.0</td>\n",
       "      <td>1000.0</td>\n",
       "      <td>1.0</td>\n",
       "      <td>985.0</td>\n",
       "      <td>328.0</td>\n",
       "      <td>1.0</td>\n",
       "      <td>257.0</td>\n",
       "      <td>39.0</td>\n",
       "      <td>24.0</td>\n",
       "      <td>0</td>\n",
       "      <td>11</td>\n",
       "      <td>2.0</td>\n",
       "      <td>0</td>\n",
       "      <td>0.238282</td>\n",
       "      <td>0.031342</td>\n",
       "    </tr>\n",
       "  </tbody>\n",
       "</table>\n",
       "</div>"
      ],
      "text/plain": [
       "   TENURE  MONTANT  FREQUENCE_RECH  REVENUE  ARPU_SEGMENT  FREQUENCE  \\\n",
       "0    10.0   4250.0            15.0   4251.0        1417.0       17.0   \n",
       "1     8.0   3000.0             7.0   3000.0        1000.0        9.0   \n",
       "2    10.0   3600.0             2.0   1020.0         340.0        2.0   \n",
       "3    10.0   8500.0            15.0   8898.5        2966.5       18.0   \n",
       "4    10.0   1000.0             1.0    985.0         328.0        1.0   \n",
       "\n",
       "   DATA_VOLUME  ON_NET  ORANGE  MRG  REGULARITY  FREQ_TOP_PACK  CHURN  \\\n",
       "0        144.0   119.5    46.0    0          54            8.0      0   \n",
       "1        257.0    27.0    29.0    0           4            0.0      1   \n",
       "2        257.0    90.0    46.0    0          17            1.0      0   \n",
       "3        376.0    41.0    72.5    0          62           11.0      0   \n",
       "4        257.0    39.0    24.0    0          11            2.0      0   \n",
       "\n",
       "   REGION_FE  TOP_PACK_FE  \n",
       "0   0.016547     0.070702  \n",
       "1   0.394280     0.419022  \n",
       "2   0.394280     0.008567  \n",
       "3   0.238282     0.006791  \n",
       "4   0.238282     0.031342  "
      ]
     },
     "execution_count": 17,
     "metadata": {},
     "output_type": "execute_result"
    }
   ],
   "source": [
    "df.head()"
   ]
  },
  {
   "cell_type": "markdown",
   "id": "e1e2c6e1",
   "metadata": {},
   "source": [
    "# Based on the previous data exploration train and test a machine learning classifier"
   ]
  },
  {
   "cell_type": "code",
   "execution_count": 18,
   "id": "29f45d12",
   "metadata": {},
   "outputs": [],
   "source": [
    "from sklearn.impute import SimpleImputer\n",
    "from sklearn.model_selection import train_test_split\n",
    "\n",
    "#Re-split raw data\n",
    "X = df.drop(\"CHURN\", axis=1)\n",
    "y = df[\"CHURN\"]\n",
    "\n",
    "X_train, X_test, y_train, y_test = train_test_split(X, y, test_size=0.2, random_state=42, stratify=y)\n",
    "\n",
    "#Impute train and test separately to avoid data leakage\n",
    "numeric_cols = X_train.select_dtypes(include=[\"float64\", \"int64\"]).columns\n",
    "\n",
    "imputer = SimpleImputer(strategy=\"median\")\n",
    "X_train[numeric_cols] = imputer.fit_transform(X_train[numeric_cols])\n",
    "X_test[numeric_cols] = imputer.transform(X_test[numeric_cols])"
   ]
  },
  {
   "cell_type": "code",
   "execution_count": 19,
   "id": "a7df587f",
   "metadata": {},
   "outputs": [
    {
     "name": "stdout",
     "output_type": "stream",
     "text": [
      "              precision    recall  f1-score   support\n",
      "\n",
      "           0       0.93      0.92      0.92    350013\n",
      "           1       0.66      0.68      0.67     80797\n",
      "\n",
      "    accuracy                           0.87    430810\n",
      "   macro avg       0.79      0.80      0.80    430810\n",
      "weighted avg       0.88      0.87      0.87    430810\n",
      "\n"
     ]
    },
    {
     "name": "stderr",
     "output_type": "stream",
     "text": [
      "/Users/mohamoud/Desktop/streamlit/env/lib/python3.10/site-packages/sklearn/linear_model/_logistic.py:473: ConvergenceWarning: lbfgs failed to converge after 1000 iteration(s) (status=1):\n",
      "STOP: TOTAL NO. OF ITERATIONS REACHED LIMIT\n",
      "\n",
      "Increase the number of iterations to improve the convergence (max_iter=1000).\n",
      "You might also want to scale the data as shown in:\n",
      "    https://scikit-learn.org/stable/modules/preprocessing.html\n",
      "Please also refer to the documentation for alternative solver options:\n",
      "    https://scikit-learn.org/stable/modules/linear_model.html#logistic-regression\n",
      "  n_iter_i = _check_optimize_result(\n"
     ]
    }
   ],
   "source": [
    "from sklearn.linear_model import LogisticRegression\n",
    "from sklearn.metrics import classification_report\n",
    "\n",
    "model = LogisticRegression(max_iter=1000)\n",
    "model.fit(X_train, y_train)\n",
    "y_pred = model.predict(X_test)\n",
    "\n",
    "print(classification_report(y_test, y_pred))"
   ]
  },
  {
   "cell_type": "code",
   "execution_count": 21,
   "id": "b3b99e87",
   "metadata": {},
   "outputs": [
    {
     "data": {
      "text/plain": [
       "['/Users/mohamoud/Desktop/streamlit/expresso_churn_project/models/churn_model.pkl']"
      ]
     },
     "execution_count": 21,
     "metadata": {},
     "output_type": "execute_result"
    }
   ],
   "source": [
    "import joblib\n",
    "\n",
    "#Save feature names in exact training order\n",
    "feature_names = X_train.columns.tolist()\n",
    "joblib.dump(feature_names, \"/Users/mohamoud/Desktop/streamlit/expresso_churn_project/models/feature_names.pkl\")\n",
    "\n",
    "# Saving trained model into our models folder\n",
    "joblib.dump(model, \"/Users/mohamoud/Desktop/streamlit/expresso_churn_project/models/churn_model.pkl\")"
   ]
  }
 ],
 "metadata": {
  "kernelspec": {
   "display_name": "env (3.10.5)",
   "language": "python",
   "name": "python3"
  },
  "language_info": {
   "codemirror_mode": {
    "name": "ipython",
    "version": 3
   },
   "file_extension": ".py",
   "mimetype": "text/x-python",
   "name": "python",
   "nbconvert_exporter": "python",
   "pygments_lexer": "ipython3",
   "version": "3.10.5"
  }
 },
 "nbformat": 4,
 "nbformat_minor": 5
}
